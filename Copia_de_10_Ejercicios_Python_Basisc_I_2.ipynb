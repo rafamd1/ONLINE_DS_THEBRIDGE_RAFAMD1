{
  "cells": [
    {
      "cell_type": "markdown",
      "metadata": {
        "id": "view-in-github",
        "colab_type": "text"
      },
      "source": [
        "<a href=\"https://colab.research.google.com/github/rafamd1/ONLINE_DS_THEBRIDGE_RAFAMD1/blob/main/Copia_de_10_Ejercicios_Python_Basisc_I_2.ipynb\" target=\"_parent\"><img src=\"https://colab.research.google.com/assets/colab-badge.svg\" alt=\"Open In Colab\"/></a>"
      ]
    },
    {
      "cell_type": "markdown",
      "metadata": {
        "id": "GB2K42EgK9q5"
      },
      "source": [
        "![TheBridge_logo_RGB_color.jpg](attachment:TheBridge_logo_RGB_color.jpg)"
      ]
    },
    {
      "cell_type": "markdown",
      "metadata": {
        "id": "GnwVlO37K9q6"
      },
      "source": [
        "![imagen](./img/ejercicios.png)"
      ]
    },
    {
      "cell_type": "markdown",
      "metadata": {
        "id": "_9pTa0PXK9q6"
      },
      "source": [
        "## EJERCICIOS PYTHON BASICO 2:\n",
        "## Tipos y conversión de tipos"
      ]
    },
    {
      "cell_type": "markdown",
      "metadata": {
        "id": "tYmV-veoK9q6"
      },
      "source": [
        "Completa los siguiente ejercicios, la solución a los mismos se publicarán en el repo del curso a lo largo del sprint"
      ]
    },
    {
      "cell_type": "markdown",
      "metadata": {
        "id": "YAdFbIOXK9q7"
      },
      "source": [
        "![ejercicio.png](./img/ejercicio.png)\n",
        "\n",
        "## Ejercicio 1\n",
        "\n",
        "1. Crea dos variables numericas: un `int` y un `float`\n",
        "2. Comprueba sus tipos\n",
        "3. Sumalas en otra nueva\n",
        "4. ¿De qué tipo es la nueva variable?\n",
        "5. Elimina las dos primeras variables creadas"
      ]
    },
    {
      "cell_type": "code",
      "execution_count": null,
      "metadata": {
        "id": "8QZmuLOsK9q7",
        "outputId": "a8c250a4-74fa-4e13-b5f4-179d77c34010",
        "colab": {
          "base_uri": "https://localhost:8080/"
        }
      },
      "outputs": [
        {
          "output_type": "stream",
          "name": "stdout",
          "text": [
            "<class 'int'>\n",
            "<class 'float'>\n",
            "6.5\n",
            "<class 'float'>\n"
          ]
        }
      ],
      "source": [
        "a = 3\n",
        "b = 3.5\n",
        "\n",
        "print(type(a))\n",
        "print(type(b))\n",
        "\n",
        "c = a + b\n",
        "print(c)\n",
        "print(type(c))"
      ]
    },
    {
      "cell_type": "markdown",
      "source": [
        "La nueva variable es de tipo float"
      ],
      "metadata": {
        "id": "oN9O0u_IBm02"
      }
    },
    {
      "cell_type": "markdown",
      "metadata": {
        "id": "f5xfpkpQK9q7"
      },
      "source": [
        "![ejercicio.png](./img/ejercicio.png)\n",
        "\n",
        "## Ejercicio 2\n",
        "Escribe un programa para pasar de grados a radianes. Hay que usar `input`. Recuerda que la conversión se realiza mediante\n",
        "\n",
        "radianes = grados*(pi/180)"
      ]
    },
    {
      "cell_type": "code",
      "execution_count": null,
      "metadata": {
        "id": "V50TUQMzK9q7",
        "outputId": "9f599267-f439-4c9e-ff88-40dba1c3a5b7",
        "colab": {
          "base_uri": "https://localhost:8080/"
        }
      },
      "outputs": [
        {
          "output_type": "stream",
          "name": "stdout",
          "text": [
            "introduca grados20\n",
            "0.3488888888888889 radianes\n"
          ]
        }
      ],
      "source": [
        "grados= input(\"introduca grados\")\n",
        "\n",
        "grados_int = int(grados)\n",
        "\n",
        "radianes = grados_int*(3.14/180)\n",
        "\n",
        "print(radianes, \"radianes\")"
      ]
    },
    {
      "cell_type": "markdown",
      "metadata": {
        "id": "zX3-p58CK9q7"
      },
      "source": [
        "![ejercicio.png](./img/ejercicio.png)\n",
        "\n",
        "## Ejercicio 3\n",
        "Escribe un programa que calcule el area de un paralelogramo (base x altura). También con `input`"
      ]
    },
    {
      "cell_type": "code",
      "execution_count": null,
      "metadata": {
        "id": "s2QfNiBAK9q7",
        "outputId": "46c07c7a-d18c-475b-90c5-270e7631107f",
        "colab": {
          "base_uri": "https://localhost:8080/"
        }
      },
      "outputs": [
        {
          "output_type": "stream",
          "name": "stdout",
          "text": [
            "introduca base 10\n",
            "introduca altura10 20.5\n",
            "el area es igual a 205.0 m2\n"
          ]
        }
      ],
      "source": [
        "base = input(\"introduca base \")\n",
        "\n",
        "base_fl = float(base)\n",
        "\n",
        "altura = base = input(\"introduca altura10 \")\n",
        "\n",
        "altura_fl = float(altura)\n",
        "\n",
        "area = base_fl * altura_fl\n",
        "\n",
        "print(\"el area es igual a\", area, \"m2\")"
      ]
    },
    {
      "cell_type": "markdown",
      "metadata": {
        "id": "-6TBo_HvK9q8"
      },
      "source": [
        "![ejercicio.png](./img/ejercicio.png)\n",
        "\n",
        "## Ejercicio 4\n",
        "Escribe un programa que calcule el area de un paralelogramo (base x altura). También con `input`. En este caso debe ser capaz de admitir valores reales, con decimales, para base y altura en español. (PISTA: Recuerda que tendrás que hacer uso del método replace)"
      ]
    },
    {
      "cell_type": "code",
      "execution_count": null,
      "metadata": {
        "id": "uzUIa1JqK9q8"
      },
      "outputs": [],
      "source": [
        "base = input(\"introduca base \")\n",
        "\n",
        "base_fl = float(base)\n",
        "\n",
        "altura = base = input(\"introduca altura10 \")\n",
        "\n",
        "altura_fl = float(altura)\n",
        "\n",
        "area = base_fl * altura_fl\n",
        "\n",
        "print(\"el area es igual a\", area, \"m2\")"
      ]
    },
    {
      "cell_type": "markdown",
      "metadata": {
        "id": "5zKugi5iK9q8"
      },
      "source": [
        "![ejercicio.png](./img/ejercicio.png)\n",
        "\n",
        "## Ejercicio 5\n",
        "Complete el siguiente código para solicitar al usuario su nombre y su edad. Luego, calcule en qué año nació el usuario y muestre el resultado."
      ]
    },
    {
      "cell_type": "code",
      "execution_count": null,
      "metadata": {
        "id": "LISfTnRkK9q8",
        "outputId": "69e2e448-c641-4b30-a61c-9726ec9f5170",
        "colab": {
          "base_uri": "https://localhost:8080/"
        }
      },
      "outputs": [
        {
          "output_type": "stream",
          "name": "stdout",
          "text": [
            "¿Cuál es tu nombre? Rafael\n",
            "¿Cuál es tu edad? 25\n",
            "Rafael, naciste en el año 1999.\n"
          ]
        }
      ],
      "source": [
        "nombre = input(\"¿Cuál es tu nombre? \")\n",
        "edad = int(input(\"¿Cuál es tu edad? \"))\n",
        "año_actual = 2024\n",
        "año_nacimiento = año_actual - edad\n",
        "\n",
        "print(f\"{nombre}, naciste en el año {año_nacimiento}.\")\n"
      ]
    }
  ],
  "metadata": {
    "kernelspec": {
      "display_name": "Curso_Online_DATA",
      "language": "python",
      "name": "python3"
    },
    "language_info": {
      "codemirror_mode": {
        "name": "ipython",
        "version": 3
      },
      "file_extension": ".py",
      "mimetype": "text/x-python",
      "name": "python",
      "nbconvert_exporter": "python",
      "pygments_lexer": "ipython3",
      "version": "3.11.5"
    },
    "orig_nbformat": 4,
    "colab": {
      "provenance": [],
      "include_colab_link": true
    }
  },
  "nbformat": 4,
  "nbformat_minor": 0
}