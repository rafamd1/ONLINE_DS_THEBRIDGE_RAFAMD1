{
  "cells": [
    {
      "cell_type": "markdown",
      "metadata": {
        "id": "view-in-github",
        "colab_type": "text"
      },
      "source": [
        "<a href=\"https://colab.research.google.com/github/rafamd1/ONLINE_DS_THEBRIDGE_RAFAMD1/blob/main/Copia_de_DS_01_02_01_N13.ipynb\" target=\"_parent\"><img src=\"https://colab.research.google.com/assets/colab-badge.svg\" alt=\"Open In Colab\"/></a>"
      ]
    },
    {
      "cell_type": "markdown",
      "metadata": {
        "id": "AyOlWS2nRWxH"
      },
      "source": [
        "## PRACTICA OBLIGATORIA: COLECCIONES Y FUNCIONES"
      ]
    },
    {
      "cell_type": "markdown",
      "metadata": {
        "id": "6UOgb0KVRWxH"
      },
      "source": [
        "* La práctica obligatoria de esta unidad consiste varios ejercicios de programación libre a completar sobre Colecciones y Funciones. Descarga este notebook en tu ordenador y trabaja en local.  \n",
        "* Recuerda que debes subirla a tu repositorio personal antes de la sesión en vivo para que puntúe adecuadamente y puedas participar en dicha sesión.  \n",
        "* Recuerda también que no es necesario que esté perfecta, sólo es necesario que se vea el esfuerzo.\n",
        "* Esta práctica se resolverá en la sesión en vivo correspondiente y la solución se publicará en el repo del curso."
      ]
    },
    {
      "cell_type": "markdown",
      "metadata": {
        "id": "j3yu-tEjRWxH"
      },
      "source": [
        "### Contenidos"
      ]
    },
    {
      "cell_type": "markdown",
      "metadata": {
        "id": "kO-fLH39RWxH"
      },
      "source": [
        "## Ejercicio 1\n",
        "Eleva todos los elementos de la lista al cuadrado\n",
        "> ```ejer_2 = [1,2,3,4,5]```"
      ]
    },
    {
      "cell_type": "code",
      "execution_count": 1,
      "metadata": {
        "id": "ks5l3yi7RWxH",
        "outputId": "e65b9989-a6e9-4322-de3c-634d5e014f31",
        "colab": {
          "base_uri": "https://localhost:8080/"
        }
      },
      "outputs": [
        {
          "output_type": "stream",
          "name": "stdout",
          "text": [
            "[1, 4, 9, 16, 25]\n"
          ]
        }
      ],
      "source": [
        "ejer_2 = [1,2,3,4,5]\n",
        "\n",
        "lista_cuadrado = [x ** 2 for x in ejer_2]\n",
        "\n",
        "print(lista_cuadrado)"
      ]
    },
    {
      "cell_type": "markdown",
      "metadata": {
        "id": "kI_Xr5oFRWxI"
      },
      "source": [
        "## Ejercicio 2\n",
        "Haz un programa que detecte todos los duplicados de un elemento en una lista:\n",
        "* Utiliza una variable duplicado para asignarle el valor del elemento del que queremos encontrar todos sus duplicados.\n",
        "* El programa debe devolver todos los índices de los elementos duplicados.\n",
        "* Aplícalo para encontrar los duplicados de \"un\", \"es\" y \"binario\" de:  \n",
        "\n",
        ">```ejer_3 = [\"Un\", \"árbol\", \"binario\", \"es\", \"una\", \"estructura\", \"de\", \"un\", \"tipo\", \"particular\", \"a\", \"veces\", \"no\", \"es\", \"ni\", \"binario\"]```\n"
      ]
    },
    {
      "cell_type": "code",
      "source": [
        "def encontrar_duplicados(lista, elemento1, elemento2, elemento3):\n",
        "    indices_duplicados = []\n",
        "    for i in range(len(lista)):\n",
        "        if lista[i] == elemento1 or elemento2 or elemento3:\n",
        "            indices_duplicados.append(i)\n",
        "    return indices_duplicados\n",
        "\n",
        "ejer_3 =[\"Un\", \"árbol\", \"binario\", \"es\", \"una\", \"estructura\", \"de\", \"un\", \"tipo\", \"particular\", \"a\", \"veces\", \"no\", \"es\", \"ni\", \"binario\"]\n",
        "duplicado1 = \"binario\"\n",
        "duplicado2= \"es\"\n",
        "duplicado3= \"un\"\n",
        "indices_duplicados2 = encontrar_duplicados(ejer_3, duplicado1, duplicado2, duplicado3)\n",
        "print(\"Los duplicados de los elementos:\", duplicado1, duplicado2, duplicado3, \", se encuentran en los índices:\", indices_duplicados2)"
      ],
      "metadata": {
        "id": "hDjA_9eor6iE",
        "outputId": "9874202c-4bf4-4737-a010-f97b8a185249",
        "colab": {
          "base_uri": "https://localhost:8080/"
        }
      },
      "execution_count": 2,
      "outputs": [
        {
          "output_type": "stream",
          "name": "stdout",
          "text": [
            "Los duplicados de los elementos: binario es un , se encuentran en los índices: [0, 1, 2, 3, 4, 5, 6, 7, 8, 9, 10, 11, 12, 13, 14, 15]\n"
          ]
        }
      ]
    },
    {
      "cell_type": "markdown",
      "metadata": {
        "id": "3WrBd5QaRWxI"
      },
      "source": [
        "## Ejercicio 3\n",
        "1. ¿Cuántas veces se repite el 3 en la siguiente tupla?\n",
        "2. Crea una tupla nueva con los elementos desde la posicion 5 a la 10.\n",
        "3. ¿Cuántos elementos tiene la tupla `ejer_3`?\n",
        "> ```ejer_9 = (3, 20, 3, 47, 19, 3, 29, 45, 67, 78, 90, 3, 3, 5, 2, 4, 7, 9, 4, 2, 4, 3, 3, 4, 6, 7)```"
      ]
    },
    {
      "cell_type": "code",
      "execution_count": 3,
      "metadata": {
        "id": "bkv_R5LYRWxI",
        "outputId": "365735ff-f255-4f68-d4a2-c6bd01e44f1b",
        "colab": {
          "base_uri": "https://localhost:8080/"
        }
      },
      "outputs": [
        {
          "output_type": "stream",
          "name": "stdout",
          "text": [
            "[0, 2, 5, 11, 12, 21, 22]\n",
            "1. El 3 se repite 7 veces\n",
            "2. (3, 29, 45, 67, 78)\n",
            "3. La lista tiene 26 elementos\n"
          ]
        }
      ],
      "source": [
        "ejer_9 = (3, 20, 3, 47, 19, 3, 29, 45, 67, 78, 90, 3, 3, 5, 2, 4, 7, 9, 4, 2, 4, 3, 3, 4, 6, 7)\n",
        "\n",
        "def encontrar_3(lista, numero):\n",
        "    lista_numero = []\n",
        "    for i in range(len(lista)):\n",
        "        if lista[i] == numero:\n",
        "            lista_numero.append(i)\n",
        "    return lista_numero\n",
        "\n",
        "lista_3= encontrar_3(ejer_9, 3)\n",
        "\n",
        "print(lista_3)\n",
        "\n",
        "print(\"1. El 3 se repite\", len(lista_3), \"veces\")\n",
        "\n",
        "tupla_nueva= ejer_9[5:10]\n",
        "\n",
        "print(\"2.\", tupla_nueva)\n",
        "\n",
        "print(\"3. La lista tiene\", len(ejer_9), \"elementos\")"
      ]
    },
    {
      "cell_type": "markdown",
      "metadata": {
        "id": "6g8Y54AeRWxI"
      },
      "source": [
        "## Ejercicio 4\n",
        "Comprueba si el numero 60 esta en la tupla del ejercicio 3"
      ]
    },
    {
      "cell_type": "code",
      "execution_count": 4,
      "metadata": {
        "id": "F8VTEZonRWxI",
        "outputId": "e5d5c50b-d4d3-485e-bee1-65150d012ec2",
        "colab": {
          "base_uri": "https://localhost:8080/"
        }
      },
      "outputs": [
        {
          "output_type": "stream",
          "name": "stdout",
          "text": [
            "El número 60 no está en la tupla.\n"
          ]
        }
      ],
      "source": [
        "if 60 in ejer_9:\n",
        "    print(\"El número 60 está en la tupla.\")\n",
        "else:\n",
        "    print(\"El número 60 no está en la tupla.\")"
      ]
    },
    {
      "cell_type": "markdown",
      "metadata": {
        "id": "y0fg-ZA6RWxI"
      },
      "source": [
        "## Ejercicio 5\n",
        "1. Convierte la tupla del ejercicio 3 en una lista\n",
        "2. Convierte la tupla del ejercicio 3 en un set\n",
        "3. Convierte la tupla del ejercicio 3 en un diccionario. Usa también los indices"
      ]
    },
    {
      "cell_type": "code",
      "execution_count": 5,
      "metadata": {
        "id": "_O5hXr01RWxI",
        "outputId": "583363c5-5439-4913-dd7a-980917c4c4d5",
        "colab": {
          "base_uri": "https://localhost:8080/"
        }
      },
      "outputs": [
        {
          "output_type": "stream",
          "name": "stdout",
          "text": [
            "Lista: [3, 20, 3, 47, 19, 3, 29, 45, 67, 78, 90, 3, 3, 5, 2, 4, 7, 9, 4, 2, 4, 3, 3, 4, 6, 7]\n",
            "Lista: {2, 3, 67, 5, 4, 7, 6, 9, 45, 78, 47, 19, 20, 90, 29}\n",
            "Diccionario: {0: 3, 1: 20, 2: 3, 3: 47, 4: 19, 5: 3, 6: 29, 7: 45, 8: 67, 9: 78, 10: 90, 11: 3, 12: 3, 13: 5, 14: 2, 15: 4, 16: 7, 17: 9, 18: 4, 19: 2, 20: 4, 21: 3, 22: 3, 23: 4, 24: 6, 25: 7}\n"
          ]
        }
      ],
      "source": [
        "ejer_9_lista = list(ejer_9)\n",
        "print(\"Lista:\", ejer_9_lista)\n",
        "\n",
        "ejer_9_set = set(ejer_9)\n",
        "print(\"Lista:\", ejer_9_set)\n",
        "\n",
        "ejer_9_diccionario = dict(enumerate(ejer_9))\n",
        "print(\"Diccionario:\", ejer_9_diccionario)"
      ]
    },
    {
      "cell_type": "markdown",
      "metadata": {
        "id": "eOdWWbxvRWxJ"
      },
      "source": [
        "## Ejercicio 6\n",
        "Multiplica todos los valores del diccionario\n",
        "> ```ejer_6 = {1: 11, 2: 22, 3: 33, 4: 44, 5: 55}```"
      ]
    },
    {
      "cell_type": "code",
      "execution_count": 6,
      "metadata": {
        "id": "KcuByovKRWxJ",
        "outputId": "4b67d0b8-fdd2-47dd-ed6d-12a893bd1d80",
        "colab": {
          "base_uri": "https://localhost:8080/"
        }
      },
      "outputs": [
        {
          "output_type": "stream",
          "name": "stdout",
          "text": [
            "1 : 11\n",
            "2 : 22\n",
            "3 : 33\n",
            "4 : 44\n",
            "5 : 55\n"
          ]
        }
      ],
      "source": [
        "ejer_6 = {1: 11, 2: 22, 3: 33, 4: 44, 5: 55}\n",
        "\n",
        "for i in ejer_6:\n",
        "  print(i, \":\", ejer_6[i])"
      ]
    },
    {
      "cell_type": "code",
      "source": [
        "valores_dic= ejer_6.values()\n",
        "print(valores_dic)\n",
        "\n",
        "def multiplicacion_ejer_6():\n",
        "  resultado= 1\n",
        "  for valor in valores_dic:\n",
        "    resultado= resultado* valor\n",
        "  return resultado\n",
        "\n",
        "multiplicacion_ejer_6()"
      ],
      "metadata": {
        "id": "EkNVCsxxEPN8",
        "outputId": "1667bed1-6f0c-4f54-ab77-5069d93ff924",
        "colab": {
          "base_uri": "https://localhost:8080/"
        }
      },
      "execution_count": 7,
      "outputs": [
        {
          "output_type": "stream",
          "name": "stdout",
          "text": [
            "dict_values([11, 22, 33, 44, 55])\n"
          ]
        },
        {
          "output_type": "execute_result",
          "data": {
            "text/plain": [
              "19326120"
            ]
          },
          "metadata": {},
          "execution_count": 7
        }
      ]
    },
    {
      "cell_type": "markdown",
      "metadata": {
        "id": "W7TUSaKRRWxJ"
      },
      "source": [
        "## Ejercicio 7\n",
        "\n",
        "1. Crea un diccionario que describa un libro, con los siguientes campos o claves: \"titulo\",\"autor\",\"idioma original\",\"año de publicación\".\n",
        "2. Crea un a lista, llamada librería.\n",
        "3. Añade cuatro libros a tu elección a la librería."
      ]
    },
    {
      "cell_type": "code",
      "execution_count": 8,
      "metadata": {
        "vscode": {
          "languageId": "plaintext"
        },
        "id": "d-IMRvxRRWxJ",
        "outputId": "d04a61b1-b130-4b93-a7c3-a60c2d7d4963",
        "colab": {
          "base_uri": "https://localhost:8080/"
        }
      },
      "outputs": [
        {
          "output_type": "stream",
          "name": "stdout",
          "text": [
            "['El Quijote', 'La Galatea', 'Guerra y Paz', 'La Celestina']\n"
          ]
        }
      ],
      "source": [
        "libros = {\"titulo\": \"\",\n",
        "         \"autor\": \"\",\n",
        "         \"idioma_original\": \"\",\n",
        "         \"año de publicacion\": \"\"\n",
        "}\n",
        "\n",
        "libreria= []\n",
        "\n",
        "libreria.extend([\"El Quijote\", \"La Galatea\", \"Guerra y Paz\", \"La Celestina\"])\n",
        "\n",
        "print(libreria)"
      ]
    },
    {
      "cell_type": "code",
      "source": [
        "libros.update({\"idioma_original\": [\"\"]})\n",
        "\n",
        "libros.update({\"titulo\": libreria})\n",
        "\n",
        "print(libros)"
      ],
      "metadata": {
        "colab": {
          "base_uri": "https://localhost:8080/"
        },
        "id": "7LN1unbha8wN",
        "outputId": "1c120b12-b4e2-4066-e389-c2e26e40a686"
      },
      "execution_count": 9,
      "outputs": [
        {
          "output_type": "stream",
          "name": "stdout",
          "text": [
            "{'titulo': ['El Quijote', 'La Galatea', 'Guerra y Paz', 'La Celestina'], 'autor': '', 'idioma_original': [''], 'año de publicacion': ''}\n"
          ]
        }
      ]
    },
    {
      "cell_type": "markdown",
      "metadata": {
        "id": "glMoedjYRWxJ"
      },
      "source": [
        "## Ejercicio 8\n",
        "Modifica los valores del idioma de todos los libros del ejercicio anterior para que sea \"esperanto\"\n"
      ]
    },
    {
      "cell_type": "code",
      "source": [
        "for i in libros:\n",
        "  libros.update({\"idioma_original\": \"esperanto\"})\n",
        "print(libros)"
      ],
      "metadata": {
        "colab": {
          "base_uri": "https://localhost:8080/"
        },
        "id": "VGAcLe9MYZst",
        "outputId": "7aef0b86-6251-45b1-b0ba-072625a3644a"
      },
      "execution_count": 10,
      "outputs": [
        {
          "output_type": "stream",
          "name": "stdout",
          "text": [
            "{'titulo': ['El Quijote', 'La Galatea', 'Guerra y Paz', 'La Celestina'], 'autor': '', 'idioma_original': 'esperanto', 'año de publicacion': ''}\n"
          ]
        }
      ]
    },
    {
      "cell_type": "markdown",
      "metadata": {
        "id": "DRCJG04KRWxJ"
      },
      "source": [
        "## Ejercicio 9\n",
        "1. Escribe un programa que dada una variable titulo busque los libros que hay en la librería con ese título. Si no se encuentra debe devolver el mensaje `Ese no lo tengo, ¿mola?`\n",
        "2. Pruena que el programa con uno de tus libros y con otro que no contenga tu librería."
      ]
    },
    {
      "cell_type": "code",
      "source": [
        "def encontrar_libros3(lista, titulo_libro):\n",
        "    indices_libros= []\n",
        "    for i in range(len(lista)):\n",
        "            if lista[i] == titulo_libro:\n",
        "                indices_libros.append(i)\n",
        "            else:\n",
        "              continue\n",
        "    return indices_libros\n",
        "\n",
        "titulo_libro = \"Cantar de mio Cid\"\n",
        "indices_libros2 = encontrar_libros3(libreria, titulo_libro)\n",
        "\n",
        "if len(indices_libros2) > 0:\n",
        "  print(\"El libro\",titulo_libro, \"se encuentra en el índice:\", indices_libros2)\n",
        "else:\n",
        "  print(\"ese no lo tengo, mola?\")"
      ],
      "metadata": {
        "colab": {
          "base_uri": "https://localhost:8080/"
        },
        "id": "CvidZGfJeyLN",
        "outputId": "74c5c542-bf13-43d9-9ed1-86aba968c79e"
      },
      "execution_count": 14,
      "outputs": [
        {
          "output_type": "stream",
          "name": "stdout",
          "text": [
            "ese no lo tengo, mola?\n"
          ]
        }
      ]
    },
    {
      "cell_type": "code",
      "source": [
        "def encontrar_libros3(lista, titulo_libro):\n",
        "    indices_libros= []\n",
        "    for i in range(len(lista)):\n",
        "            if lista[i] == titulo_libro:\n",
        "                indices_libros.append(i)\n",
        "            else:\n",
        "              continue\n",
        "    return indices_libros\n",
        "\n",
        "titulo_libro = \"La Galatea\"\n",
        "indices_libros2 = encontrar_libros3(libreria, titulo_libro)\n",
        "\n",
        "if len(indices_libros2) > 0:\n",
        "  print(\"El libro\",titulo_libro, \"se encuentra en el índice:\", indices_libros2)\n",
        "else:\n",
        "  print(\"ese no lo tengo, mola?\")"
      ],
      "metadata": {
        "colab": {
          "base_uri": "https://localhost:8080/"
        },
        "id": "U2ql0aEhicAl",
        "outputId": "6dbcaf72-6e86-451b-daac-5c0b7c37ac6f"
      },
      "execution_count": 15,
      "outputs": [
        {
          "output_type": "stream",
          "name": "stdout",
          "text": [
            "El libro La Galatea se encuentra en el índice: [1]\n"
          ]
        }
      ]
    },
    {
      "cell_type": "code",
      "source": [
        "def encontrar_libros3(lista, titulo_libro):\n",
        "    indices_libros= []\n",
        "    for i in range(len(lista)):\n",
        "            if lista[i] == titulo_libro:\n",
        "                indices_libros.append(i)\n",
        "            else:\n",
        "              continue\n",
        "    return indices_libros\n",
        "\n",
        "titulo_libro = \"Jekyll and Hyde\"\n",
        "indices_libros2 = encontrar_libros3(libreria, titulo_libro)\n",
        "\n",
        "if len(indices_libros2) > 0:\n",
        "  print(\"El libro\",titulo_libro, \"se encuentra en el índice:\", indices_libros2)\n",
        "else:\n",
        "  print(\"ese no lo tengo, mola?\")"
      ],
      "metadata": {
        "colab": {
          "base_uri": "https://localhost:8080/"
        },
        "id": "oe7FhZXvjLUd",
        "outputId": "f62d883f-17d7-4c45-bcf4-bee944db7a5f"
      },
      "execution_count": 16,
      "outputs": [
        {
          "output_type": "stream",
          "name": "stdout",
          "text": [
            "ese no lo tengo, mola?\n"
          ]
        }
      ]
    },
    {
      "cell_type": "markdown",
      "metadata": {
        "id": "17YOpYuFRWxJ"
      },
      "source": [
        "## Ejercicio 10\n",
        "Convierte el programa del ejercicio 2 en una función al que se le pase el valor a buscar como un argumento posicional"
      ]
    },
    {
      "cell_type": "code",
      "execution_count": 39,
      "metadata": {
        "id": "xbj0LgvnRWxJ",
        "colab": {
          "base_uri": "https://localhost:8080/"
        },
        "outputId": "29871f0b-18a6-4f9a-be53-8da02d7ff75e"
      },
      "outputs": [
        {
          "output_type": "stream",
          "name": "stdout",
          "text": [
            "Los duplicados de los elementos: binario es un ,se encuentran en los índices: [0, 1, 2, 3, 4, 5, 6, 7, 8, 9, 10, 11, 12, 13, 14, 15]\n"
          ]
        }
      ],
      "source": [
        "def encontrar_duplicados(lista, elemento1, elemento2, elemento3):\n",
        "    indices_duplicados = []\n",
        "    for i in range(len(lista)):\n",
        "        if lista[i] == elemento1 or elemento2 or elemento3:\n",
        "            indices_duplicados.append(i)\n",
        "    return indices_duplicados\n",
        "\n",
        "ejer_3 =[\"Un\", \"árbol\", \"binario\", \"es\", \"una\", \"estructura\", \"de\", \"un\", \"tipo\", \"particular\", \"a\", \"veces\", \"no\", \"es\", \"ni\", \"binario\"]\n",
        "duplicado1 = \"binario\"\n",
        "duplicado2= \"es\"\n",
        "duplicado3= \"un\"\n",
        "indices_duplicados2 = encontrar_duplicados(ejer_3, duplicado1, duplicado2, duplicado3)\n",
        "print(\"Los duplicados de los elementos:\", duplicado1, duplicado2, duplicado3,\",se encuentran en los índices:\", indices_duplicados2)"
      ]
    },
    {
      "cell_type": "markdown",
      "metadata": {
        "id": "xZ-sWJxPRWxJ"
      },
      "source": [
        "## Ejercicio 11\n",
        "Convierte el programa del ejercicio 9 en una función al que se le pasen como argumentos la librería, posicional, y el título, argumento keyword con valor \"ninguno\", por defecto."
      ]
    },
    {
      "cell_type": "code",
      "source": [
        "def encontrar_libros3(lista, titulo_libro = \"ninguno\"):\n",
        "    indices_libros= []\n",
        "    for i in range(len(lista)):\n",
        "            if lista[i] == titulo_libro:\n",
        "                indices_libros.append(i)\n",
        "            else:\n",
        "              continue\n",
        "    return indices_libros\n",
        "\n",
        "titulo_libro = \"La Galatea\"\n",
        "indices_libros2 = encontrar_libros3(libreria)\n",
        "\n",
        "if len(indices_libros2) > 0:\n",
        "  print(\"El libro\",titulo_libro, \"se encuentra en el índice:\", indices_libros2)\n",
        "else:\n",
        "  print(\"ese no lo tengo, mola?\")"
      ],
      "metadata": {
        "colab": {
          "base_uri": "https://localhost:8080/"
        },
        "id": "a8KM4YzAz11a",
        "outputId": "d3e113cd-3d7c-4330-dcae-75730fbe1fe2"
      },
      "execution_count": 35,
      "outputs": [
        {
          "output_type": "stream",
          "name": "stdout",
          "text": [
            "ese no lo tengo, mola?\n"
          ]
        }
      ]
    },
    {
      "cell_type": "markdown",
      "metadata": {
        "id": "FtJir95QRWxK"
      },
      "source": [
        "## Ejercicio 12\n",
        "Solicitar al usuario que ingrese su dirección email. Imprimir un mensaje indicando si la dirección es válida o no, valiéndose de una función para decidirlo. Una dirección se considerará válida si contiene el símbolo \"@\"."
      ]
    },
    {
      "cell_type": "code",
      "execution_count": 18,
      "metadata": {
        "id": "sk852IZ8RWxK",
        "colab": {
          "base_uri": "https://localhost:8080/"
        },
        "outputId": "02376740-d499-420e-fd70-b399621226aa"
      },
      "outputs": [
        {
          "output_type": "stream",
          "name": "stdout",
          "text": [
            "Ingrese aqui su email: rafa@email\n",
            "La direccion email es valida\n"
          ]
        }
      ],
      "source": [
        "ingrese_email= input(\"Ingrese aqui su email: \")\n",
        "\n",
        "\n",
        "def email_valido(lista):\n",
        "  indices_email= []\n",
        "  for i in range(len(lista)):\n",
        "              if lista[i] == '@':\n",
        "                  indices_email.append(i)\n",
        "              else:\n",
        "                continue\n",
        "  return indices_email\n",
        "\n",
        "indices_email2 = email_valido(ingrese_email)\n",
        "\n",
        "if len(indices_email2) == 0:\n",
        "  print(\"La direccion email no es valida\")\n",
        "else:\n",
        "  print(\"La direccion email es valida\")"
      ]
    },
    {
      "cell_type": "markdown",
      "metadata": {
        "id": "Kw1MWBwBRWxK"
      },
      "source": [
        "## Ejercicio 13\n",
        "Escribe una función que compruebe si un DNI es válido, devolviendo `True` en caso afirmativo.  \n",
        "En primer lugar, el DNI debe tener entre 7 y 8 dígitos numéricos.  \n",
        "Para saber si la letra del DNI es correcta puedes utilizar el siguiente fragmento de código:\n",
        ">```Python\n",
        ">DNI= 55555555\n",
        ">palabra='TRWAGMYFPDXBNJZSQVHLCKE'\n",
        ">print('La letra del DNI es: ', palabra[DNI%23])\n",
        ">````\n"
      ]
    },
    {
      "cell_type": "code",
      "execution_count": 37,
      "metadata": {
        "id": "F5Z9rSHqRWxK",
        "colab": {
          "base_uri": "https://localhost:8080/"
        },
        "outputId": "479e399c-8675-4a72-c040-14ffa1acb5d9"
      },
      "outputs": [
        {
          "output_type": "stream",
          "name": "stdout",
          "text": [
            "True\n",
            "La letra del DNI es:  K\n"
          ]
        }
      ],
      "source": [
        "def DNI_valido(DNI_lista):\n",
        "  if len(DNI_lista) <= 8 and len(DNI_lista) >= 7:\n",
        "    return True\n",
        "  else:\n",
        "    return False\n",
        "\n",
        "DNI= 55555555\n",
        "DNI_lista_str = list(str(DNI))\n",
        "DNI_lista_dig = [int(i) for i in DNI_lista_str]\n",
        "\n",
        "DNI_prueba= DNI_valido(DNI_lista_dig)\n",
        "\n",
        "print(DNI_prueba)\n",
        "\n",
        "DNI= 55555555\n",
        "palabra='TRWAGMYFPDXBNJZSQVHLCKE'\n",
        "print('La letra del DNI es: ', palabra[DNI%23])"
      ]
    }
  ],
  "metadata": {
    "language_info": {
      "name": "python"
    },
    "orig_nbformat": 4,
    "colab": {
      "provenance": [],
      "include_colab_link": true
    },
    "kernelspec": {
      "name": "python3",
      "display_name": "Python 3"
    }
  },
  "nbformat": 4,
  "nbformat_minor": 0
}