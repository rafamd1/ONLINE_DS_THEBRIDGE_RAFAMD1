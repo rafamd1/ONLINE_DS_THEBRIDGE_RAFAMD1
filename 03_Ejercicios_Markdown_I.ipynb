{
  "cells": [
    {
      "cell_type": "markdown",
      "metadata": {
        "id": "view-in-github",
        "colab_type": "text"
      },
      "source": [
        "<a href=\"https://colab.research.google.com/github/rafamd1/ONLINE_DS_THEBRIDGE_RAFAMD1/blob/main/03_Ejercicios_Markdown_I.ipynb\" target=\"_parent\"><img src=\"https://colab.research.google.com/assets/colab-badge.svg\" alt=\"Open In Colab\"/></a>"
      ]
    },
    {
      "cell_type": "markdown",
      "id": "59ec229f",
      "metadata": {
        "id": "59ec229f"
      },
      "source": [
        "<img src=\"./img/TheBridge_logo_RGB_color.jpg\" width = 500>"
      ]
    },
    {
      "cell_type": "markdown",
      "id": "30a2c01b",
      "metadata": {
        "id": "30a2c01b"
      },
      "source": [
        "# EJERCICIOS MARKDOWN (I)"
      ]
    },
    {
      "cell_type": "markdown",
      "id": "e165fb0c",
      "metadata": {
        "id": "e165fb0c"
      },
      "source": [
        "Aquí tienes cinco sencillos ejercicios para practicar lo aprendido en la primera sesión de Markdown. Utiliza las celdas que hay debajo dec cada enunciado y recuerda convertirlas a Markdown primero ;-)"
      ]
    },
    {
      "cell_type": "markdown",
      "id": "5f74096f",
      "metadata": {
        "id": "5f74096f"
      },
      "source": [
        "\n",
        "\n",
        "### Ejercicio 1: Cabeceras\n",
        "Crea las siguientes cabeceras:\n",
        "\n",
        "1. Una cabecera de nivel 1 con el texto \"Ciencia de Datos\".\n",
        "2. Una cabecera de nivel 2 con el texto \"Introducción\".\n",
        "3. Una cabecera de nivel 3 con el texto \"Herramientas\"."
      ]
    },
    {
      "cell_type": "markdown",
      "source": [
        "# Ciencia de datos\n",
        "\n",
        "## Introduccion\n",
        "\n",
        "### Herramientas![The-Bridge-_-Digital-Talent-Accelerator.jpeg](data:image/jpeg;base64,/9j/4AAQSkZJRgABAQAAAQABAAD/2wBDAAMCAgMCAgMDAwMEAwMEBQgFBQQEBQoHBwYIDAoMDAsKCwsNDhIQDQ4RDgsLEBYQERMUFRUVDA8XGBYUGBIUFRT/2wBDAQMEBAUEBQkFBQkUDQsNFBQUFBQUFBQUFBQUFBQUFBQUFBQUFBQUFBQUFBQUFBQUFBQUFBQUFBQUFBQUFBQUFBT/wgARCAGQAZADASIAAhEBAxEB/8QAHAABAAMAAwEBAAAAAAAAAAAAAAIGCAEDBAcF/8QAGwEBAAMBAQEBAAAAAAAAAAAAAAEEBgcFAgP/2gAMAwEAAhADEAAAAdUniifR8/8Am1C8HfXeqeDjydfzwfFgAAAAAAAAAAAAAAAABzwP0LXROfuvon6Bjm++tkNHPF7fewPVnb6Tnnwt9Dg8XcAgAAAAAAAAAAAAAAAAAAABzwT9B0TjnQ3s4f5hRff+f5OvD4sAAAAAAAAAAAAAAAAAAAAAAc3qifofdfwcHxYAAAAAAAAAAAAAAAAAAAAAAAc8AAAAAAAAAAAAAAAAAAAAAAAAAAAAAAAAAAAAAAAAAAAAAAAAAAAAAAAAAAAAAAAAAAAAAAAAAAAAAAAAAAAAAAAAAAAAAAAAAAAAAAAAAAAAAAAAAAAAAAAAAAAAAAAAAAAAAAAAAAAAAAAAAAAAAAAAAAAAAAAAAAAAAAAAAAAAAAAAAAAjxH1NATQ4Ox1jsdY7EBN1jsQE0ODsdY7EBNDg7HWOxATQE0BNATQE0OSQn5AAAARlGJ++WryXbWciqi1v3o1RaxVFrFUWsVRaxVFrFUWsVRaxVFrFUWsVRaxVFrFUWsVRaxVFrFUWsVRaxVKr9VpP4XsySjLJ9dCYAAARlGJ01d6TdtjxcLFAAAAAAAAAAAAAAAABSLvSa9/Mkoyx3aAmAAAEZRidN3ak3bY8XCxQAAAAAAAAAAAAAAAAUm7UmvfzJKMsd2gJgAABGUYnTd2pN22PFwsUAAAAAAAAAAAAAAAAFJu1Jr38ySjLHdoCYAAARlGJ03dqTdtjxcLFAAABXrDlCj72iGVHl6rVbKg1WyoNVsqDVbKg1WyoNVsqDWNhyhq/1MqF7wQAAFJu1Jr38ySjLHdoCYAAARlGJ03dqTdtjxcLFAAABlLVuUvH2VdGf6IAAAAABYtW5S1boedh6+NAAAUm7UmvfzJKMsd2gJgAABGUYnTd2pF32PFwsUAAAGUtW5S8fZV0Z/ogAAAAAFi1blLVuh52Hr40AABSbtSK9/Msoyx3aAmAAAEZRidN3ak3bY8XCxQAAAZS1blLx9lXRn+iAAAAAAWLVuUtW6HnYevjQAAFJu1Jr38ySjLHdoCYAAARlGJ03dqTdtjxcLFAAABlLVuUvH2VdGf6IAAAAABYtW5S1boedh6+NAAAUm7UmvfzJKMsd2gJgA54AEZRidN3akXfY8XCxQAAAZS1blLx9lXRn+iAAAAAAWLVuUtW6HnYevjQAAFJu1Ir38yyjLHdoCYHJ7/z73RfuvwPiwjKMTpu7Ui77Hi4WKAAADKWrcpePsq6M/0QAAAAACxatylq3Q87D18aAAApN2pFe/mWUZY7tATD9DwXr7r/AE/POxs7etkPnznjxtwjKMNN3ak3bY8XCxQAAAZS1blLx9lXRn+iAAAAAAWLVuUtW6HnYevjQAAFJu1Jr38ySjLHdoHMp6G+baJ9nD9vi9r3sDnGhbG+f+Dvs7QvtR8nYaMu1Ju2t4+FigAAAylq3KXj7KujP9EAAAAAAsWrcpat0POw9fGgAAKTdqTXv5kn7LdkuwUi+/SfoHrY/wA/tPewP//EACgQAAADCQEAAgMBAQEAAAAAAAABBgIDBAUSFjAxNjUQUBETIBQVkP/aAAgBAQABBQL4beMu2ZmsYeDONVkbFB9GPH5/TOYx44OCVkbCiWLGHjDYeMvGfmKincI5nqnfTFo2zP6smzISJTvpc1CxTuLch42TthTz05jFfXJienLol22TxhYzM4ODbP8AJ/XMH+DR0zOMg1ZG/wCqafYJON/yzSMffvffYQb79D7/ANWKhWQrIVkKyFZCshWQrIVkKyFZCshWQrIVkKyFZCshWQrIVkKyFZCshWQrIVkKyFZCshWQrIVkKyFZCshVkMJiQy+NktqyoWrKhasqFqyoWrKhasqFqyoWrKhasqFqyoWrKhasqFqyoWrKhasqFqyoWrKhasqFqyoWrKhasqFqyoWrKhasqFqyoWrKhasqFqyoWrKhasqFqyoWrKhasqFqyoWrKhasqCnkMvgpKWNrSO576RY88zrE1pHc99IseeZ1ia0jue+kWPPM6xNaR3PfSLHnmdYmtI7nvpFjzzOsTWkdz30ix55nWJrSO576RY88zrE1pHc9ifz+Bh3tyy4XLLhcsuFyy4XLLhcsuFyy4XLLhcsuFyy4XLLhcsuFyy4XLLg4n8DEPcSx55nWJrSO57EpWS/71BCghQQoIUEKCFBCghQQoIUEKCFBCggmmS/72JY88zrE1pG89iUnu5k37uJZc8zrE1pG89iUnu5k37uJZc8zrE1pHc9iUnu5k37uJY88zrE1pHc9iUnu5k37uJY88zrE1pHc9iUnu5k37uJY88zrE1pHc9iUnvZk372JY88zrE1pG89iUnvZk372JZc8zrE1pHc9iUnu5k37uJY88zrE1pHc9iUnu5k37uJY88zrE1pHc9iUnvZk372JY88zr+Yxz+h9/DWkbz2JSe7mTfu4llzzOv4g3P73ysgv8s0/hrSO57EpPdzJv3cSx55nX8JOC/1TRYyw4yDbL8H8taRvPYlJ72ZN+9iWXPM6+WC/Jo6WHBwbxgnjCnkRy6K+WtI3nsSk93Mm/dxLLnmdfKYkRzGJdsE7YEVCu4tzPUw+lzRsGXw1pG89iUnvZk372JZc8zoEwZiRJh9MWoWFdwjn5bdsvGZmjoeMONScbCiIg3jgI7n8Sk97Mm/exLHn4eDePxBJONihLEdDwZsO2XbPx//EADARAAEBBAgDCQEBAQAAAAAAAAEAAgMENAUGERQgU3KxQXGREBYhMDFAUVLRgTJw/9oACAEDAQE/AQC0bAoCrrIAbjPX4/U6hnDkWOmAP57R7DuHwseMA/xR9XWSC3B+vx+IgsmwqrsAAzfGx48P33FYoAFm+MDx4/qhnQcuGHY4Ae4iXQfOG3R4g/8ATLFYVYVYVYVYVYVYVYVYVYVYVYVYVYVYVYVYVZiCjouIZinoDw+p4n5V9ic1rqVfYnNa6lX2JzWupV9ic1rqVfYnNa6lX2JzWupV9ic1rqVfYnNa6lX2JzWupV9ic1rqVfYnNa6lX2JzWupV9ic1rqVfYnNa6lX2JzWupV9ic1rqVfYnNa6lQMXENRToF4f9DifnEFSE291Hf2VHzbrUN8QVITb3Ud/ZUfNutQ3xBUhNvdR39lR8261DfEFSE291HfDRFHsUg9aYeGywLuzDfcruzDfcruzDfcruzDfcruzDfcruzDfcruzDfcql6PYo96ywwbbRho+bdahviCpCbe6jvhqzMN8vIrNMMcsNHzbrUN8QVITb3Ud8NWZhvl5FZphjlho+bdahviCpCbe6jvhqzMN8vIrNMMcsNHzbrUN8QVITb3Ud8NWZhvl5FZphjlho+bdahviCpCbe6jvhqzMN8vIrNMMcsNHzbrUN8EM9D5ww8HEDsCpCbe6jvhqzMN8vIrNMMcsNHzbrUN+2Jehy4bengCqux4LNzbPjw/OwKkJt7qO+GrMw3y8is0wxyw0fNutQ37axR4DNzYPjx/ECWTaFAViZIDEZ6/P6nUS4feLtsH+qkJt7qO+GrMw3y8is0wxyw0fNutQ3T2JcOfF42B/VH1iZALEH6/P4iS0bSv/EACoRAAAEBQIGAgMBAAAAAAAAAAABAgMFEyAzcRFSFSEwMkBREBIEMZFw/9oACAECAQE/ATPTmYfiB9rX9CnFr7j8RLi0dphiIH2uj98yEQf5yk+RD3+cow4r7rNXkNq+iyV/puo1Go1Go1Go1Go1Go1Go1Go1GvQYabNpJmkv0JLe0hJb2kJLe0hJb2kJLe0hJb2kJLe0hJb2kJLe0hJb2kJLe0hJb2kJLe0hJb2kJLe0hJb2kJLe0g802TSjJJfqti0nHhP2lYBVMWk48J+0rAKpi0nHhP2lYBVMWk4p/LfNhJGQ4k56HEnPQ4k56HEnPQ4k56HEnPQ4k56H4r5vpMzpftKwCqYtJxTErZdCG2zpftKwCqYtJxTErZdCG2zpftKwCqYtJxTErZdCG2zpftKwCqYtJxTErZdCG2zpftKwCqYtJxTErZdCG2zpftKwC+XE/RZp+WLScUxK2XQhts6X7SsAvhtP3WSREGOc1PyxaTimJWy6ENtnS/aVgF8Q9jnNMGWvIw/Dz7mv4FNrR3EGLScUxK2XQhts6X7SsBDa19pBiHn3Ogi05EP/8QALxAAAQEGBAUCBwEBAAAAAAAAAQIAAwQwcbERNJLREiAxUFEhkRATIiMzQUJSkP/aAAgBAQAGPwL4cSiEjyWKHP3lj2b0ecCfAwb6lY9n+lWDerzjT/k4MEPvsrPs3EkhSfI5FPXquFA6luFBLpz4B7bwrJeufBLJeulcSD0PwKleiQMSxQn8KDgO3hCvwrOBYKT6pIxDfJQcFvLdx+Ss4rd2Z4P5T09u4ux/Kuvsylee4pV4/wCxcO9fQ4W8UDicT5bKJ1HdsonUd2yidR3bKJ1HdsonUd2yidR3bKJ1HdsonUd2yidR3bKJ1HdsonUd2yidR3bKJ1HdsonUd2yidR3bKJ1HdsonUd2yidR3bKJ1HdsonUd2yidR3bKJ1HdsonUd2yidR3bKJ1HdsonUd2yidR3bKJ1HdsonUd2yidR3bKJ1HdsonUd2yidR3bKJ1HdsonUd2yidR3aIeuYcIeJAwOJ8zYWhueyxVBcTYWhueyxVBcTYWhueyxVBcTYWhueyxVBcTYWhueyxVBcTYWhueyxVBcTYWhueyxVBcTYWhuZZdvIh2lY6gqDZp1rDZp1rDZp1rDZp1rDZp1rDZp1rDZp1rDZp1rDZp1rDZp1rDZp1rDZp1rDZp1rDZp1rDB27iHalnoAoS4qguJsLQ3MuK9P2blujdG6N0bo3RujdG6N0bo3RujdGhfT9i4lxVBcTYWhuZcVU3M+FqLiXFUFxNhaG5lxVTcz4WouJcVQXE2FobmXFVNzPhai4lxVBcTYWhuZcVU3M+FqLiXFUFxNhaG5lxVTcz4WouJcVQXE2FobmXFVNzPhai4lxVBcTYWhuZcVU3M+FqLiXFUFxNhaG5lxVTcz4WouJcVQXE2FobmXFVNzPhai4lxVBcTYWhuZcVU3M+FqLiXFUFxzqT45oWhuZcVU3M+FqLiXFUFxzJT5Z4f5V09uaFobmXFVNzPhai4lxVBcczs/ynr7N85AxW7tzQtDcy4qpuZ8LUXEuKoLjm+csYLeWYpV6pIwLFafwrOI5YWhuZcVU3M+FqLiXFUFxyhavwoOJYJT6JAwHwU6ep4kHqG4kAvXPkDkhaG5lxVTcz4WouJcVQXHJxLBdOfJDJdOk8KB0HJwqAUnwWK3P2Vn2b0d8afIwb6k4NC0NzLiqm5nwtRcS4qguG+lOLervgT5ODBb77yx7NwpASnwPj//EACYQAAEDAgYCAwEBAAAAAAAAAAEAETFQYSAwQXHB8BAhUYGxoZD/2gAIAQEAAT8h8HQJk7AIVo1D/oJ+DtpFwnQYtkfdFHpOgxbJuDNoBwhWjUP+ihskQdwcOw4XjyDgTu0oy5NLMuCg8+ScSNnjzsOH0ciHQBG3YoPyQWdEvTQWRv3CD8ElnR9mIg1BQS1JdtwKKcmnlGQilqQz7AE2xdkH9Ki+xZ0H9kYrNRGCyjvUQW/0nIDVXFcVxXFcVxXFcVxXFcVxXFcVxXFcVxXFcVxXFcVxXFcVxXFcVxXFcVxXFcVxADrmGwTp3BE/t8GikiRIkSJEiRIkSJEiRIkSJEiRIkSJEiRIkSJEiRIkSJMncEzenyUbjLko9KlBlyUelSgy5KPSpQZclHpUoMuSj0qUGXJR6VKDLko9KlBlyZlKD6qiP6us8rrPK6zyus8rrPK6zyus8rrPK6zyus8rrPK6zyus8rrPKk+qon+5lKDLkzKRDgKrNWas1ZqzVmrNWas1ZqzVmrNWaAYDMqlBlyUclixEoMuSjksWIlBlyUekiRUoMuSj0kSKlBlyUelixUoMuSj0oUKlBlyUclChEoMuSj0sWKlBlyUekiRUoMTNhko9KFCpQYQHRis4UlHJYsRKDCYLKNsGZI/TDJR6WLFSgwvsHdI/ZBLUl23EopwcElHJQoRKDAUYCKWpDPsIQ9HIB1BQt3KL8El2RDeZKOSRIiUHkB0L9gi/JBdkPZiANAPPw4XnyDiRu0IyxHiSjkoUIlB4MsAg8eScCdnnD8OHZIkbgo1o0DfgJ+LNrByn4GLcL0ouUKF7LJuBi3Cbi7axco1o0DfgobBEDYDz/9oADAMBAAIAAwAAABD9cd3333333333333333321u/83z333333333333333333333w+f33333333333333333333331933333333333333333333333233333333333333333333333333333333333333333333333333333333333333333333333333333333333333333333333333333333333333333333333333333333333333333333333333333333333333333333333333333333333LDTzzDzDTzDTzDDDDDD33333uY00000000000000001rf3332vfzzzzzzzzzzzzzzzzztX3332tfzzzzzzzzzzzzzzzzytX3332tfzzzzzzzzzzzzzzzzytX3332tfzzzzgwwwwwwzTzzzytX3332tfzzzyr3333331TzzzytX3332t/wA888q9999999U8888vV9999rX8888q9999999U8888rV9999rX8888q9999999U8888rV9919rf8888q9999999U8888vV95b9rf8APPPKvffffffVPPPPL1fd8/K1/PPPKvffffffVPPPPK1fO/8Ac1/zzzyr3333331Tzzzy8zv/AP/EACcRAAECBQEJAQEAAAAAAAAAAAEA8BEgMVFhwSEwQEFxgZGh8RBw/9oACAEDAQE/EBgcSdgAqSjFRLlNOrQeV2EUI+a++EgpuQj5r7RioBzmvVofKOBwI2EGoKLIoojG+gd+IDNiQGdtB7LkLTvDb7jxHIUneGz3D+mRHksSxLEsSxLEsSxLEsSxLEsSxLEsSxKK01SB3gDAAgBFlNLVNLVNLVNLVNLVNLVNLVNLVNLVNLVNLVNLVNLVNLVNLVNLVNLVG7wQkEwOxlGstSbbuCbbEay1Jtu4JtsRrLUm27gm2xGstSbbpSZQibOq+GF8ML4YXwwvhhfDC+GETOETb1lbbEay1Jtuld5G4d5lbbEay1Jtuld5G4d5lbbEay1Jtuld5G4d5lbbEay1Jtuld5G4d5lbbEay1Jtuld5G4d5lbbEa/vMWneG33H8qTbdK7yNw7zK22I1/OYpO8NnuCLIIInO+od/ypNt0rvI3DvMrbYjX8DIooHG2o9kMHgRtBFQUIqAcor0ajwhI6NCPivpNt0rvI3DvMrbYhJ6tCPivpCKjdFOjU+EcHiTtJNSV/8QAJxEAAgEDAgUFAQEAAAAAAAAAAAGhESAxsfEhMEFhwRBAUYHR8HD/2gAIAQIBAT8QQjZRIYbw/wA4DKr39+0dVevsUaw/P6JpEyqY11XDr+e4Yqvh0/Bjfq37hqfo1/plUUFBQUFBQUFBQUFBQUFBQUFBVXMaINp0XwbMjZkbMjZkbMjZkbMjZkbMjZkbMjZkbMjZkbMjZkbMhYg03RfAsWvBHaeyntDC14I7T2U9oYWvBHaeyntDC14I7S1Pdauh2MnYydjJ2MnYydjJ2Mi+6UdLZ7QwteCO0tm8iT4tntDC14I7S2byJPi2e0MLXgjtLZvIk+LZ7QwteCO0tm8iT4tntDC14I7S2byJPi2e0MPVjfo36PBHaWzeRJ8Wz2hh6NT9WhqouHX99HgjtLZvIk+LZ7Qw9GOj4dP0QjRVMQbw/wA4HCnr6I7S2byJPi2e0OBPf0ONYfj9EIkUSP/EACcQAQACAQQCAQMFAQAAAAAAAAEAEWEhMUGRUPFREHHBIDCAobGQ/9oACAEBAAE/EPoVv1BNVrbpFAFSQtGtEfhluuiSlVW7b3Gjm2qD/CKyvhVYSFDNsQP+kt10YEqq3LfHUUAVDAVa1Q+SFL0QTJY2afoPAEVFq0OBd0mmmARK1Gq3PGzGaFVbWXfibqE0CI2M20wIlaDVbDjYh4AqIl0pyDuP0E6k4AFurgleaspEEXmwOaiu3xquyXtrygADeKF5qCZScICykwxCBhJFqDT7kVBVVVb8eqCIiI1EIGElSoNfszW6wlVSrtmOr480ZrddSqoU3zFjVBVcB+PIrGjKJ9k/MUtW/IorGv8ApMtR+mkw+pg9TB6mDMCYEwJgTAmH1MHqYEwJh9TB6mH1MGYMwZh9TBmD1MCYEwZgzB6mDMHqYPUw+pg9TB6mH1MHqYfUfotBv9u5fiKmYekGaCbBx4Xt27du3bt27du3bt27du3bt27du3bt27du3bt27du3ZUzD0k3RTZeJUvz/AB10qVtChbSpW0qVtKlbSpW0qVtKT+aJwKNiXcf3+vXr169evXr169evVP5gnCgUDd08HK2lLiORCHpCekJ6QnpCekJ6QnpCekJ6QnpCekJ6QnpCekIuA5AP5qErYUoUCthShQK2laNEraFo0QtpShRK2lCBErYUIECtpShRK2laNErKWpXkdCECIWRUFwY0QETA/nyOFKFArDGrIB9l/E1usJVUC7Zjo+P0pQolY1ZrddSqpE3zEIOAFSqNPsQUERRErx+FCBArCgqoAFxCDgBFqjX7sE6E4QFOjhleesoEETihOKiunxuFaNArK6Je2rKQAM5sHioJkJwAKKDB9DQBBVLpHhHcJtrgRK1SK2POxGaBFKSVXicKECBWq4TQqhQTbXAiVokVuOdmGgCgq1avKu6/oKXqAmSkp0igCtIDbegHy/1LddUlKq9m3z1AD3oinOGGl4WhAg0pQD70ADnLL9dkUqr2LfHcUAVjC6b1B+D+4UvQBMFBRp9f/9k=)"
      ],
      "metadata": {
        "id": "EXP4Th6dysuI"
      },
      "id": "EXP4Th6dysuI"
    },
    {
      "cell_type": "markdown",
      "source": [
        "## Hola mundo"
      ],
      "metadata": {
        "id": "VMO8j7_VlfdC"
      },
      "id": "VMO8j7_VlfdC"
    },
    {
      "cell_type": "code",
      "execution_count": null,
      "id": "b3a2fc32",
      "metadata": {
        "id": "b3a2fc32",
        "colab": {
          "base_uri": "https://localhost:8080/"
        },
        "outputId": "c83ceba0-b719-463d-b56e-056705e25824"
      },
      "outputs": [
        {
          "output_type": "stream",
          "name": "stdout",
          "text": [
            "Hola mundo\n"
          ]
        }
      ],
      "source": [
        "print(\"Hola mundo\")"
      ]
    },
    {
      "cell_type": "markdown",
      "id": "4b636168",
      "metadata": {
        "id": "4b636168"
      },
      "source": [
        "### Ejercicio 2: Estilos de texto\n",
        "Escribe una frase que contenga las siguientes características:\n",
        "\n",
        "1. La palabra \"Markdown\" en negritas.\n",
        "2. La palabra \"Jupyter\" en cursivas.\n",
        "3. La palabra \"Python\" en negritas y cursivas."
      ]
    },
    {
      "cell_type": "markdown",
      "source": [
        "Estoy usando celdas **Markdown** dentro de un *Jupyter Notebook*. Todo ello en el lenguaje ***Python***\n",
        "\n",
        "---\n",
        "\n"
      ],
      "metadata": {
        "id": "b0fd666e"
      },
      "id": "b0fd666e"
    },
    {
      "cell_type": "markdown",
      "id": "61fd2979",
      "metadata": {
        "id": "61fd2979"
      },
      "source": [
        "### Ejercicio 3: Resaltados y HTML\n",
        "Crea una línea que contenga:\n",
        "\n",
        "1. La palabra \"resaltado\" con un fondo amarillo usando Markdown.\n",
        "2. La palabra \"color\" en azul usando HTML.\n",
        "\n",
        "Para este ejercicio tendrás que buscar un poco más en internet, venga que tú puedes."
      ]
    },
    {
      "cell_type": "markdown",
      "source": [
        "<span style=\"background-color:yellow\">resaltado</span>"
      ],
      "metadata": {
        "id": "FaAgMQxBzypv"
      },
      "id": "FaAgMQxBzypv"
    },
    {
      "cell_type": "markdown",
      "source": [
        "<font color=\"blue\">color</font>"
      ],
      "metadata": {
        "id": "S9BVE3FfzilV"
      },
      "id": "S9BVE3FfzilV"
    },
    {
      "cell_type": "markdown",
      "id": "a91386ca",
      "metadata": {
        "id": "a91386ca"
      },
      "source": [
        "### Ejercicio 4: Citas\n",
        "Incluye la siguiente cita:\n",
        "\n",
        "> La Ciencia de Datos es el petróleo del siglo XXI.\n",
        "\n",
        "En uno y dos niveles de cita"
      ]
    },
    {
      "cell_type": "markdown",
      "source": [
        ">La Ciencia de Datos es el petróleo del siglo XXI.\n",
        ">> La Ciencia de Datos es el petróleo del siglo XXI."
      ],
      "metadata": {
        "id": "97aca4a0"
      },
      "id": "97aca4a0"
    },
    {
      "cell_type": "markdown",
      "id": "35f0595a",
      "metadata": {
        "id": "35f0595a"
      },
      "source": [
        "### Ejercicio 5: Combinando todo\n",
        "Crea un texto que combine lo siguiente:\n",
        "\n",
        "1. Una cabecera de nivel 2 con el texto \"Curso de Markdown\".\n",
        "2. Una frase que contenga la palabra \"importante\" en negritas.\n",
        "3. Una cita que diga: \"Aprender es crecer\".\n",
        "4. La palabra \"ejemplo\" en cursivas y con un fondo verde usando HTML.\n",
        "\n",
        "Nota: Si no has sido capaz de encontrar como dar color de fondo usando HTML quizás <span style=\"background-color:yellow\">*tienes que buscar más cerca de ti*</span>\n"
      ]
    },
    {
      "cell_type": "markdown",
      "source": [
        "## Curso de Markdown\n",
        "\n",
        "Es **importante** saber poner negritas\n",
        "\n",
        "Como dijo Gasol \"Aprender es crecer\"\n",
        "\n",
        "<span style=\"background-color:green\">*ejemplo*</span>\n",
        "\n"
      ],
      "metadata": {
        "id": "919b170c"
      },
      "id": "919b170c"
    }
  ],
  "metadata": {
    "kernelspec": {
      "display_name": "Python 3 (ipykernel)",
      "language": "python",
      "name": "python3"
    },
    "language_info": {
      "codemirror_mode": {
        "name": "ipython",
        "version": 3
      },
      "file_extension": ".py",
      "mimetype": "text/x-python",
      "name": "python",
      "nbconvert_exporter": "python",
      "pygments_lexer": "ipython3",
      "version": "3.11.5"
    },
    "colab": {
      "provenance": [],
      "toc_visible": true,
      "include_colab_link": true
    }
  },
  "nbformat": 4,
  "nbformat_minor": 5
}