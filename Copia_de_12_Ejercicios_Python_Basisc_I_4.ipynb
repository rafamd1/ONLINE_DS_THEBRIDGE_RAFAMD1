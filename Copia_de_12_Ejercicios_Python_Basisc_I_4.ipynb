{
  "cells": [
    {
      "cell_type": "markdown",
      "metadata": {
        "id": "view-in-github",
        "colab_type": "text"
      },
      "source": [
        "<a href=\"https://colab.research.google.com/github/rafamd1/ONLINE_DS_THEBRIDGE_RAFAMD1/blob/main/Copia_de_12_Ejercicios_Python_Basisc_I_4.ipynb\" target=\"_parent\"><img src=\"https://colab.research.google.com/assets/colab-badge.svg\" alt=\"Open In Colab\"/></a>"
      ]
    },
    {
      "cell_type": "markdown",
      "metadata": {
        "id": "d9iOCFUcQwZ7"
      },
      "source": [
        "## EJERCICIOS PYTHON BASICO 4:\n",
        "## Funciones, métodos, listas"
      ]
    },
    {
      "cell_type": "markdown",
      "metadata": {
        "id": "2Od4Str_QwZ7"
      },
      "source": [
        "Completa los siguiente ejercicios, la solución completa a los mismos se publicarán en el repo del curso a lo largo del sprint. En algunos ejercicios se muestra la solución final, para que puedas comprobar que lo has hecho bien, pero lo importante es el código que generes. ¡Vaaamos, a ello...!"
      ]
    },
    {
      "cell_type": "markdown",
      "metadata": {
        "id": "Sped4wU_QwZ7"
      },
      "source": [
        "![ejercicio.png](./img/ejercicio.png)\n",
        "\n",
        "## Ejercicio 1\n",
        "Para este ejercicio vamos a poner en práctica [las funciones built in](https://docs.python.org/3/library/functions.html).\n",
        "\n",
        "1. Calcula el máximo de la lista: [4, 6, 8, -1]\n",
        "2. Suma todos los elementos de la lista anterior\n",
        "3. Redondea este float a 3 dígitos decimales: 63.451256965\n",
        "4. Valor absoluto de: -74"
      ]
    },
    {
      "cell_type": "code",
      "execution_count": null,
      "metadata": {
        "id": "neQ-JBVUQwZ7",
        "outputId": "8f758b32-46ee-4918-c64e-29a28ea805ff",
        "colab": {
          "base_uri": "https://localhost:8080/"
        }
      },
      "outputs": [
        {
          "output_type": "stream",
          "name": "stdout",
          "text": [
            "17\n",
            "63.451\n",
            "74\n"
          ]
        }
      ],
      "source": [
        "lista1 = [4, 6, 8, -1]\n",
        "\n",
        "print(sum(lista1))\n",
        "\n",
        "numero1 = 63.451256965\n",
        "numero_redondeado = round(numero1, 3)\n",
        "print(numero_redondeado)\n",
        "\n",
        "numero2 = -74\n",
        "valor_absoluto = abs(numero2)\n",
        "print(valor_absoluto)"
      ]
    },
    {
      "cell_type": "markdown",
      "metadata": {
        "id": "ECIC1HrHQwZ8"
      },
      "source": [
        "![ejercicio.png](./img/ejercicio.png)\n",
        "\n",
        "## Ejercicio 2\n",
        "Para el siguiente string se pide imprimir por pantalla los siguientes casos\n",
        "\n",
        "    \"En un lugar de la Mancha, de cuyo nombre no quiero acordarme.\"\n",
        "\n",
        "1. Pásalo todo a mayúsculas\n",
        "2. Pásalo todo a minúsculas\n",
        "3. Solo la primera letra de cada palabra en mayúscula, el resto en minúscula\n",
        "4. Crea una lista dividiéndolo por sus espacios\n",
        "5. Sustituye las comas `,` por puntos y comas `;`\n",
        "6. Elimina las `a` minúsculas"
      ]
    },
    {
      "cell_type": "code",
      "execution_count": null,
      "metadata": {
        "id": "Z4cd7j5JQwZ8",
        "outputId": "2647b253-5cc2-4b97-e885-32862d3c8698",
        "colab": {
          "base_uri": "https://localhost:8080/"
        }
      },
      "outputs": [
        {
          "output_type": "stream",
          "name": "stdout",
          "text": [
            "EN UN LUGAR DE LA MANCHA, DE CUYO NOMBRE NO QUIERO ACORDARME.\n",
            "en un lugar de la mancha, de cuyo nombre no quiero acordarme.\n",
            "En Un Lugar De La Mancha, De Cuyo Nombre No Quiero Acordarme.\n"
          ]
        }
      ],
      "source": [
        "mayus= \"En un lugar de la Mancha, de cuyo nombre no quiero acordarme.\".upper()\n",
        "print(mayus)\n",
        "\n",
        "minus= mayus.lower()\n",
        "print(minus)\n",
        "\n",
        "print(minus.title())"
      ]
    },
    {
      "cell_type": "code",
      "source": [
        "lista2= \"En Un Lugar De La Mancha, De Cuyo Nombre No Quiero Acordarme.\".split()\n",
        "print(lista2)"
      ],
      "metadata": {
        "id": "k7BkHNuZT97L",
        "outputId": "35f35f3e-a542-4eb9-8793-dd62a975c48d",
        "colab": {
          "base_uri": "https://localhost:8080/"
        }
      },
      "execution_count": null,
      "outputs": [
        {
          "output_type": "stream",
          "name": "stdout",
          "text": [
            "['En', 'Un', 'Lugar', 'De', 'La', 'Mancha,', 'De', 'Cuyo', 'Nombre', 'No', 'Quiero', 'Acordarme.']\n"
          ]
        }
      ]
    },
    {
      "cell_type": "code",
      "source": [
        "frase = \"En Un Lugar De La Mancha, De Cuyo Nombre No Quiero Acordarme\"\n",
        "frase_sin_a = frase.replace('a', '')\n",
        "print(frase_sin_a)"
      ],
      "metadata": {
        "id": "orTx9rbEVP2R",
        "outputId": "36abc814-c474-4582-8321-378ab15d3aea",
        "colab": {
          "base_uri": "https://localhost:8080/"
        }
      },
      "execution_count": null,
      "outputs": [
        {
          "output_type": "stream",
          "name": "stdout",
          "text": [
            "En Un Lugr De L Mnch, De Cuyo Nombre No Quiero Acordrme\n"
          ]
        }
      ]
    },
    {
      "cell_type": "markdown",
      "metadata": {
        "id": "a-0FpwI2QwZ8"
      },
      "source": [
        "![ejercicio.png](./img/ejercicio.png)\n",
        "\n",
        "## Ejercicio 3\n",
        "1. Crea una lista con 3 elementos numéricos\n",
        "2. Añade un cuarto elemento\n",
        "3. Calcula la suma de todos\n",
        "4. Elimina el segundo elemento de la lista\n",
        "5. Añade otro elemento en la posicion 3 de la lista\n",
        "6. Crea otra lista con 4 elementos y concaténala a la que ya tenías.\n",
        "7. Ordena la lista de menor a mayor.\n",
        "8. BONUS: Ordena la lista de mayor a menor.  \n",
        "(*PISTA: Para hacer 8, tendrás que buscar en la información del método...*)  \n",
        "  \n",
        "  \n",
        "NOTA: Pinta por pantalla el resultado de cada paso."
      ]
    },
    {
      "cell_type": "code",
      "execution_count": null,
      "metadata": {
        "id": "hgiQjeFHQwZ9",
        "outputId": "1e226ed1-2a0b-497d-d342-217593b4caed",
        "colab": {
          "base_uri": "https://localhost:8080/"
        }
      },
      "outputs": [
        {
          "output_type": "stream",
          "name": "stdout",
          "text": [
            "[2, 3, 4, 5]\n",
            "14\n",
            "[2, 4, 5]\n",
            "[2, 4, 5, 6, 7, 8, 9]\n",
            "[2, 4, 5, 6, 7, 8, 9]\n",
            "[9, 8, 7, 6, 5, 4, 2]\n"
          ]
        }
      ],
      "source": [
        "lista_x = [2,3,4]\n",
        "lista_x.append(5)\n",
        "print(lista_x)\n",
        "\n",
        "print(sum(lista_x))\n",
        "\n",
        "lista_x.pop(1)\n",
        "print(lista_x)\n",
        "\n",
        "lista_y = [6,7,8,9]\n",
        "\n",
        "lista_z = lista_x + lista_y\n",
        "print(lista_z)\n",
        "\n",
        "lista_z_ordenada_menor_mayor = sorted(lista_z)\n",
        "print(lista_z_ordenada_menor_mayor)\n",
        "\n",
        "lista_z_ordenada_reverse= sorted(lista_z, reverse=True)\n",
        "print(lista_z_ordenada_reverse)"
      ]
    }
  ],
  "metadata": {
    "kernelspec": {
      "display_name": "Curso_Online_DATA",
      "language": "python",
      "name": "python3"
    },
    "language_info": {
      "codemirror_mode": {
        "name": "ipython",
        "version": 3
      },
      "file_extension": ".py",
      "mimetype": "text/x-python",
      "name": "python",
      "nbconvert_exporter": "python",
      "pygments_lexer": "ipython3",
      "version": "3.11.5"
    },
    "orig_nbformat": 4,
    "colab": {
      "provenance": [],
      "include_colab_link": true
    }
  },
  "nbformat": 4,
  "nbformat_minor": 0
}