{
  "cells": [
    {
      "cell_type": "markdown",
      "metadata": {
        "id": "view-in-github",
        "colab_type": "text"
      },
      "source": [
        "<a href=\"https://colab.research.google.com/github/rafamd1/ONLINE_DS_THEBRIDGE_RAFAMD1/blob/main/Copia_de_11_Ejercicios_Python_Basisc_I_3.ipynb\" target=\"_parent\"><img src=\"https://colab.research.google.com/assets/colab-badge.svg\" alt=\"Open In Colab\"/></a>"
      ]
    },
    {
      "cell_type": "markdown",
      "metadata": {
        "id": "rjLogcCGHJhR"
      },
      "source": [
        "## EJERCICIOS PYTHON BASICO 3:\n",
        "## Operaciones matemáticas, comparación y booleanas"
      ]
    },
    {
      "cell_type": "markdown",
      "metadata": {
        "id": "7kTzmfFRHJhS"
      },
      "source": [
        "Completa los siguiente ejercicios, la solución completa a los mismos se publicarán en el repo del curso a lo largo del sprint. En algunos ejercicios se muestra la solución final, para que puedas comprobar que lo has hecho bien, pero lo importante es el código que generes. ¡Vaaamos, a ello...!"
      ]
    },
    {
      "cell_type": "markdown",
      "metadata": {
        "id": "kD3WrDhPHJhS"
      },
      "source": [
        "![ejercicio.png](./img/ejercicio.png)\n",
        "\n",
        "\n",
        "## Ejercicio 1\n",
        "Tenemos las siguientes variables:\n",
        "\n",
        "```Python\n",
        "A = 4\n",
        "B = \"Text\"\n",
        "C = 4.1\n",
        "```\n",
        "\n",
        "Comprueba:\n",
        "1. Si A y B son equivalentes\n",
        "2. Si A y C NO son equivalentes\n",
        "3. Si A es mayor que C\n",
        "4. Si C es menor o igual que A\n",
        "5. Si B NO es equivalente a C"
      ]
    },
    {
      "cell_type": "code",
      "execution_count": null,
      "metadata": {
        "id": "LVxabfX4HJhS"
      },
      "outputs": [],
      "source": [
        "A = 4\n",
        "B = \"Text\"\n",
        "C = 4.1"
      ]
    },
    {
      "cell_type": "code",
      "source": [
        "print(A == B)\n",
        "print(A != C)\n",
        "print(A > C)\n",
        "print(C <= A)\n",
        "print(B != C)"
      ],
      "metadata": {
        "id": "ZKMrgrLUHnJB",
        "outputId": "061b0dc6-7e64-41cd-fb3d-b88fe5672f5d",
        "colab": {
          "base_uri": "https://localhost:8080/"
        }
      },
      "execution_count": null,
      "outputs": [
        {
          "output_type": "stream",
          "name": "stdout",
          "text": [
            "False\n",
            "True\n",
            "False\n",
            "False\n",
            "True\n"
          ]
        }
      ]
    },
    {
      "cell_type": "code",
      "source": [
        "if A != C:\n",
        "    print(\"A y C NO son equivalentes.\")\n",
        "else:\n",
        "    print(\"A y C son equivalentes.\")"
      ],
      "metadata": {
        "id": "bHrypo6uIeo_",
        "outputId": "414f4b1e-ae3d-476c-c3af-0590595ccfbf",
        "colab": {
          "base_uri": "https://localhost:8080/"
        }
      },
      "execution_count": null,
      "outputs": [
        {
          "output_type": "stream",
          "name": "stdout",
          "text": [
            "A y C NO son equivalentes.\n"
          ]
        }
      ]
    },
    {
      "cell_type": "markdown",
      "metadata": {
        "id": "qHmySVHBHJhT"
      },
      "source": [
        "![ejercicio.png](./img/ejercicio.png)\n",
        "\n",
        "## Ejercicio 2\n",
        "Crea un programa donde se recojan dos inputs del usuario, y el output del programa sea si esos inputs son iguales o no"
      ]
    },
    {
      "cell_type": "code",
      "execution_count": null,
      "metadata": {
        "id": "v2O6iCf-HJhT",
        "outputId": "11e2b8cb-a3e5-49ce-9c64-7e812fb892e7",
        "colab": {
          "base_uri": "https://localhost:8080/"
        }
      },
      "outputs": [
        {
          "output_type": "stream",
          "name": "stdout",
          "text": [
            "introduca una palabra arbol\n",
            "introduca una segunda palabra rama\n",
            "False\n"
          ]
        }
      ],
      "source": [
        "palabra1= input(\"introduca una palabra \")\n",
        "palabra2= input(\"introduca una segunda palabra \")\n",
        "\n",
        "print (palabra1 == palabra2)"
      ]
    },
    {
      "cell_type": "markdown",
      "metadata": {
        "id": "hlnk6naNHJhT"
      },
      "source": [
        "![ejercicio.png](./img/ejercicio.png)\n",
        "\n",
        "## Ejercicio 3\n",
        "Mismo programa que en 2, pero en esta ocasión tienen que ser tres inputs y dos salidas. Una de las salidas que nos indique si todos son iguales, y la otra si al menos dos inputs sí que lo son"
      ]
    },
    {
      "cell_type": "code",
      "execution_count": null,
      "metadata": {
        "id": "MGsVOuoTHJhT",
        "outputId": "3a4fa21b-7282-43b2-a4ae-f763f6ddda4d",
        "colab": {
          "base_uri": "https://localhost:8080/"
        }
      },
      "outputs": [
        {
          "output_type": "stream",
          "name": "stdout",
          "text": [
            "introduca una palabra casa\n",
            "introduca una segunda palabra arbol\n",
            "introduca una segunda palabra casa\n",
            "al menos dos palabras son iguales\n"
          ]
        }
      ],
      "source": [
        "palabra1= input(\"introduca una palabra \")\n",
        "palabra2= input(\"introduca una segunda palabra \")\n",
        "palabra3= input(\"introduca una segunda palabra \")\n",
        "\n",
        "if palabra1 == palabra2 and palabra1 == palabra3 and palabra2 == palabra3:\n",
        "    print(\"las 3 palabras con iguales\")\n",
        "\n",
        "elif palabra1 == palabra2 or palabra1 == palabra3 or palabra2 == palabra3:\n",
        "    print(\"al menos dos palabras son iguales\")\n",
        "\n",
        "else:\n",
        "    print(\"todas las palabaras con distintas\")"
      ]
    },
    {
      "cell_type": "markdown",
      "metadata": {
        "id": "lcpznksGHJhT"
      },
      "source": [
        "![ejercicio.png](./img/ejercicio.png)\n",
        "\n",
        "## Ejercicio 4\n",
        "Razona sin ejecutar código el output que obtendremos de las siguientes sentencias\n",
        "1. True and True and False\n",
        "2. not ((True or False) and (True or False))\n",
        "3. (False or False or False or True) and False\n",
        "4. not False and True and not True"
      ]
    },
    {
      "cell_type": "markdown",
      "metadata": {
        "id": "alc1bKPaHJhU"
      },
      "source": [
        "1. NO\n",
        "2. NO\n",
        "3. SI\n",
        "4. no"
      ]
    }
  ],
  "metadata": {
    "kernelspec": {
      "display_name": "Curso_Online_DATA",
      "language": "python",
      "name": "python3"
    },
    "language_info": {
      "codemirror_mode": {
        "name": "ipython",
        "version": 3
      },
      "file_extension": ".py",
      "mimetype": "text/x-python",
      "name": "python",
      "nbconvert_exporter": "python",
      "pygments_lexer": "ipython3",
      "version": "3.11.5"
    },
    "orig_nbformat": 4,
    "colab": {
      "provenance": [],
      "include_colab_link": true
    }
  },
  "nbformat": 4,
  "nbformat_minor": 0
}