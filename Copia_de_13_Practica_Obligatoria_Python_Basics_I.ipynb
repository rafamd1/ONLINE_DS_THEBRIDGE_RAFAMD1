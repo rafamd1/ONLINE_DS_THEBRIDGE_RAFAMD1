{
  "cells": [
    {
      "cell_type": "markdown",
      "metadata": {
        "id": "view-in-github",
        "colab_type": "text"
      },
      "source": [
        "<a href=\"https://colab.research.google.com/github/rafamd1/ONLINE_DS_THEBRIDGE_RAFAMD1/blob/main/Copia_de_13_Practica_Obligatoria_Python_Basics_I.ipynb\" target=\"_parent\"><img src=\"https://colab.research.google.com/assets/colab-badge.svg\" alt=\"Open In Colab\"/></a>"
      ]
    },
    {
      "cell_type": "markdown",
      "metadata": {
        "id": "59zPhBxXNPxs"
      },
      "source": [
        "## PRACTICA OBLIGATORIA: PYTHON"
      ]
    },
    {
      "cell_type": "markdown",
      "metadata": {
        "id": "mv2kb1GMNPxs"
      },
      "source": [
        "* La práctica obligatoria de esta unidad consiste en dos ejercicios de programación libre a completar.   \n",
        "* Recuerda que debes subirla a tu repositorio personal antes de la sesión en vivo para que puntúe adecuadamente.  \n",
        "* Recuerda también que no es necesario que esté perfecta, sólo es necesario que se vea el esfuerzo.\n",
        "* Esta práctica se resolverá en la sesión en vivo correspondiente y la solución se publicará en el repo del curso."
      ]
    },
    {
      "cell_type": "markdown",
      "metadata": {
        "id": "Kl9JzST2NPxt"
      },
      "source": [
        "![ejercicio.png](./img/ejercicio.png)\n",
        "## PARTE I\n",
        "\n",
        "En este ejercicio debes simular un chatbot al que le haremos pedidos de pizzas.\n",
        "\n",
        "1. El chatbot tiene que saludar con un: \"Buenas tardes, bienvenido al servicio de pedido online, el precio de nuestra pizzas es de 8,95 para la familiar o de 9,90 para la mediana ¿Cuántas pizzas  familiares desea?\"\n",
        "2. El ususario tiene que introducir un número de pizzas en una variable llamada 'pizz_familiar'\n",
        "3. El chatbot debe responder: \"Estupendo, ¿cuántas pizzas medianas desea?\" y guardar el número de pizzas medianas en otra variable 'pizz_mediana'\n",
        "4. Además debe responder del chatbot: \"Estupendo, se están preparando 'pizz' pizzas familiares y 'pizz_mediana' pizzas medianas. Digame su dirección\"\n",
        "5. El ususario tiene que introducir una direccion en formato String en otra variable llamada 'direcc'\n",
        "6. El programa debe calcular el monto total\n",
        "7. Respuesta final del chatbot: \"Le mandaremos las '(número total de pizzas)' pizzas a la dirección 'direcc'. Serán <precio total a pagar en euros>. Muchas gracias por su pedido.\"\n",
        "         \n"
      ]
    },
    {
      "cell_type": "code",
      "execution_count": null,
      "metadata": {
        "id": "qkKibyt-NPxt",
        "colab": {
          "base_uri": "https://localhost:8080/"
        },
        "outputId": "b893d3e2-b68e-4b11-e89d-9adbdda025ed"
      },
      "outputs": [
        {
          "output_type": "stream",
          "name": "stdout",
          "text": [
            "Buenas tardes, bienvenido al servicio de pedido online, el precio de nuestra pizzas es de 8,95 para la familiar o de 9,90 para la mediana ¿Cuántas pizzas familiares desea?5\n",
            "Estupendo, ¿cuántas pizzas medianas desea?4\n",
            "Estupendo, se están preparando 5.0  pizzas familiares y 4.0  pizzas medianas\n",
            "Digame su direcciónCalle Pitonisa 1, Madrid\n",
            "Le mandaremos las 9.0  pizzas a la dirección Calle Pitonisa 1, Madrid . Serán 84.35 euros. Muchas gracias por su pedido.\n"
          ]
        }
      ],
      "source": [
        "pizz_familiar= input(\"Buenas tardes, bienvenido al servicio de pedido online, el precio de nuestra pizzas es de 8,95 para la familiar o de 9,90 para la mediana ¿Cuántas pizzas familiares desea?\")\n",
        "\n",
        "pizz_familiar = float(pizz_familiar)\n",
        "\n",
        "pizz_mediana= input(\"Estupendo, ¿cuántas pizzas medianas desea?\")\n",
        "\n",
        "pizz_mediana = float(pizz_mediana)\n",
        "\n",
        "print(\"Estupendo, se están preparando\", pizz_familiar, \" pizzas familiares y\", pizz_mediana, \" pizzas medianas\")\n",
        "\n",
        "direc= input(\"Digame su dirección\")\n",
        "\n",
        "direc= str(direc)\n",
        "\n",
        "monto= (pizz_familiar* 8.95) + (pizz_mediana*9.90)\n",
        "\n",
        "num_pizzas_total = pizz_familiar + pizz_mediana\n",
        "\n",
        "print(\"Le mandaremos las\", num_pizzas_total, \" pizzas a la dirección\", direc, \". Serán\", monto,\"euros. Muchas gracias por su pedido.\")\n"
      ]
    },
    {
      "cell_type": "markdown",
      "metadata": {
        "id": "f0oqoGDGNPxt"
      },
      "source": [
        "![ejercicio.png](./img/ejercicio.png)\n",
        "## Parte II\n",
        "\n",
        "Crea un programa que realice las siguientes acciones:\n",
        "\n",
        "1. Solicite al usuario que introduzca 3 números enteros separados por comas (por ejemplo: 1,2,3).\n",
        "2. Convierta esa entrada en una lista de números enteros.\n",
        "3. Utilizando funciones built-in, determine el número máximo, el número mínimo y la suma total de los números introducidos.\n",
        "4. Determine la verdad o falsedad de la siguiente afirmación: \"El número máximo menos el número mínimo es igual a la suma total dividida por 5\".\n",
        "5. Muestre los resultados utilizando print."
      ]
    },
    {
      "cell_type": "code",
      "execution_count": null,
      "metadata": {
        "id": "rAlpWiQ9NPxt",
        "colab": {
          "base_uri": "https://localhost:8080/"
        },
        "outputId": "3a6177ad-f4e8-4d95-e1c8-8ef7a4e121ef"
      },
      "outputs": [
        {
          "output_type": "stream",
          "name": "stdout",
          "text": [
            "introduzca 3 números enteros separados por comas (por ejemplo: 1,2,3)2,3,4\n",
            "['2', '3', '4']\n",
            "[2, 3, 4]\n",
            "el numero maximo es 4\n",
            "el numero minimo es 2\n",
            "la suma de todos los numeros de la lista es 9\n"
          ]
        },
        {
          "output_type": "execute_result",
          "data": {
            "text/plain": [
              "False"
            ]
          },
          "metadata": {},
          "execution_count": 4
        }
      ],
      "source": [
        "numeros= input(\"introduzca 3 números enteros separados por comas (por ejemplo: 1,2,3)\")\n",
        "\n",
        "numeros_sep =numeros.split(',')\n",
        "print(numeros_sep)\n",
        "\n",
        "numeros_lista = []\n",
        "\n",
        "for num in numeros_sep:\n",
        "    numeros_lista.append(int(num))\n",
        "\n",
        "print(numeros_lista)\n",
        "\n",
        "maximo= max(numeros_lista)\n",
        "print(\"el numero maximo es\", maximo)\n",
        "\n",
        "minimo= min(numeros_lista)\n",
        "print(\"el numero minimo es\", minimo)\n",
        "\n",
        "suma= sum(integer_list)\n",
        "print(\"la suma de todos los numeros de la lista es\", suma)\n",
        "\n",
        "max(integer_list) - min(integer_list) == suma/5"
      ]
    }
  ],
  "metadata": {
    "kernelspec": {
      "display_name": "Curso_Online_DATA",
      "language": "python",
      "name": "python3"
    },
    "language_info": {
      "codemirror_mode": {
        "name": "ipython",
        "version": 3
      },
      "file_extension": ".py",
      "mimetype": "text/x-python",
      "name": "python",
      "nbconvert_exporter": "python",
      "pygments_lexer": "ipython3",
      "version": "3.11.5"
    },
    "orig_nbformat": 4,
    "colab": {
      "provenance": [],
      "include_colab_link": true
    }
  },
  "nbformat": 4,
  "nbformat_minor": 0
}